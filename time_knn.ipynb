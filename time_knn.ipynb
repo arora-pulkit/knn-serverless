{
 "cells": [
  {
   "cell_type": "code",
   "execution_count": 1,
   "id": "80d5468c",
   "metadata": {},
   "outputs": [],
   "source": [
    "import matplotlib.pyplot as plt \n",
    "import numpy as np"
   ]
  },
  {
   "cell_type": "code",
   "execution_count": 2,
   "id": "416ad36d",
   "metadata": {},
   "outputs": [
    {
     "name": "stdout",
     "output_type": "stream",
     "text": [
      "Training set size:  10000  Time Taken:  22.75\n",
      "Training set size:  20000  Time Taken:  44.17\n",
      "Training set size:  40000  Time Taken:  87.85\n",
      "Training set size:  60000  Time Taken:  130.55\n",
      "[22.75, 44.17, 87.85, 130.55]\n"
     ]
    }
   ],
   "source": [
    "execution_time_batch = []\n",
    "batch_sizes = [10000, 20000, 40000, 60000]\n",
    "\n",
    "for batch_size in batch_sizes:\n",
    "    var = !time -p ./knn_batch.sh $batch_size\n",
    "    for v in var:\n",
    "        if 'real' in v:\n",
    "            runtime = float(v.split(\" \")[1])\n",
    "            print(\"Training set size: \", batch_size, \" Time Taken: \", runtime)\n",
    "            execution_time_batch.append(runtime)\n",
    "print(execution_time_batch)"
   ]
  },
  {
   "cell_type": "code",
   "execution_count": 3,
   "id": "f21e8fb6",
   "metadata": {},
   "outputs": [
    {
     "name": "stdout",
     "output_type": "stream",
     "text": [
      "Training set size:  10000  Time Taken:  26.54\n",
      "Training set size:  20000  Time Taken:  48.92\n",
      "Training set size:  40000  Time Taken:  93.37\n",
      "Training set size:  60000  Time Taken:  139.68\n",
      "[26.54, 48.92, 93.37, 139.68]\n"
     ]
    }
   ],
   "source": [
    "execution_time_split = []\n",
    "for batch_size in batch_sizes:\n",
    "    var = !time -p ./knn_split.sh $batch_size\n",
    "    for v in var:\n",
    "        if 'real' in v:\n",
    "            runtime = float(v.split(\" \")[1])\n",
    "            print(\"Training set size: \", batch_size, \" Time Taken: \", runtime)\n",
    "            execution_time_split.append(runtime)\n",
    "print(execution_time_split)"
   ]
  },
  {
   "cell_type": "code",
   "execution_count": 4,
   "id": "4ca7cedd",
   "metadata": {},
   "outputs": [
    {
     "data": {
      "image/png": "[encoded data removed]",
      "text/plain": [
       "<Figure size 432x288 with 1 Axes>"
      ]
     },
     "metadata": {
      "needs_background": "light"
     },
     "output_type": "display_data"
    }
   ],
   "source": [
    "X_axis = np.arange(len(batch_sizes))\n",
    "  \n",
    "plt.bar(X_axis - 0.2, execution_time_batch, 0.4, label = 'Single Batch')\n",
    "plt.bar(X_axis + 0.2, execution_time_split, 0.4, label = 'Divide & Conquer')\n",
    "  \n",
    "plt.xticks(X_axis, batch_sizes)\n",
    "plt.xlabel(\"Size of training data\")\n",
    "plt.ylabel(\"Time to classify a test data (in seconds)\")\n",
    "plt.legend()\n",
    "plt.show()"
   ]
  },
  {
   "cell_type": "code",
   "execution_count": null,
   "id": "6bcffd6e",
   "metadata": {},
   "outputs": [],
   "source": []
  }
 ],
 "metadata": {
  "kernelspec": {
   "display_name": "Python 3 (ipykernel)",
   "language": "python",
   "name": "python3"
  },
  "language_info": {
   "codemirror_mode": {
    "name": "ipython",
    "version": 3
   },
   "file_extension": ".py",
   "mimetype": "text/x-python",
   "name": "python",
   "nbconvert_exporter": "python",
   "pygments_lexer": "ipython3",
   "version": "3.9.7"
  }
 },
 "nbformat": 4,
 "nbformat_minor": 5
}
